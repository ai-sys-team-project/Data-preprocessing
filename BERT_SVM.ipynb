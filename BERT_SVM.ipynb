{
  "cells": [
    {
      "cell_type": "code",
      "execution_count": null,
      "metadata": {
        "id": "GHKhw0OW9ocb"
      },
      "outputs": [],
      "source": [
        "import pandas as pd\n",
        "import numpy as np"
      ]
    },
    {
      "cell_type": "code",
      "execution_count": null,
      "metadata": {
        "colab": {
          "base_uri": "https://localhost:8080/",
          "height": 167
        },
        "id": "eMv9cBVQ9u29",
        "outputId": "ca965135-e570-4880-fd33-a5bee37e7610"
      },
      "outputs": [
        {
          "ename": "ModuleNotFoundError",
          "evalue": "No module named 'google.colab'",
          "output_type": "error",
          "traceback": [
            "\u001b[1;31m---------------------------------------------------------------------------\u001b[0m",
            "\u001b[1;31mModuleNotFoundError\u001b[0m                       Traceback (most recent call last)",
            "Cell \u001b[1;32mIn[2], line 1\u001b[0m\n\u001b[1;32m----> 1\u001b[0m \u001b[38;5;28;01mfrom\u001b[39;00m \u001b[38;5;21;01mgoogle\u001b[39;00m\u001b[38;5;21;01m.\u001b[39;00m\u001b[38;5;21;01mcolab\u001b[39;00m \u001b[38;5;28;01mimport\u001b[39;00m drive\n\u001b[0;32m      2\u001b[0m drive\u001b[38;5;241m.\u001b[39mmount(\u001b[38;5;124m'\u001b[39m\u001b[38;5;124m/content/drive\u001b[39m\u001b[38;5;124m'\u001b[39m)\n",
            "\u001b[1;31mModuleNotFoundError\u001b[0m: No module named 'google.colab'"
          ]
        }
      ],
      "source": [
        "from google.colab import drive\n",
        "drive.mount('/content/drive')"
      ]
    },
    {
      "cell_type": "code",
      "execution_count": null,
      "metadata": {
        "colab": {
          "base_uri": "https://localhost:8080/",
          "height": 424
        },
        "id": "RPW7FLst9occ",
        "outputId": "c4a522a8-0b99-436b-a228-493d15b0ff8d"
      },
      "outputs": [
        {
          "data": {
            "text/html": [
              "<div>\n",
              "<style scoped>\n",
              "    .dataframe tbody tr th:only-of-type {\n",
              "        vertical-align: middle;\n",
              "    }\n",
              "\n",
              "    .dataframe tbody tr th {\n",
              "        vertical-align: top;\n",
              "    }\n",
              "\n",
              "    .dataframe thead th {\n",
              "        text-align: right;\n",
              "    }\n",
              "</style>\n",
              "<table border=\"1\" class=\"dataframe\">\n",
              "  <thead>\n",
              "    <tr style=\"text-align: right;\">\n",
              "      <th></th>\n",
              "      <th>Unnamed: 0</th>\n",
              "      <th>date</th>\n",
              "      <th>likes</th>\n",
              "      <th>scrapes</th>\n",
              "      <th>comments</th>\n",
              "      <th>merged</th>\n",
              "      <th>label</th>\n",
              "    </tr>\n",
              "  </thead>\n",
              "  <tbody>\n",
              "    <tr>\n",
              "      <th>0</th>\n",
              "      <td>0</td>\n",
              "      <td>2024-05-13 00:00:00</td>\n",
              "      <td>0</td>\n",
              "      <td>0</td>\n",
              "      <td>[{'comment': '장게로 가세요', 'likes': 0}]</td>\n",
              "      <td>❤️컴사코 노해선 교수님 족보 정리본 + 과제 코딩 답안 팝니다 ☑️2023학년도 ...</td>\n",
              "      <td>0</td>\n",
              "    </tr>\n",
              "    <tr>\n",
              "      <th>1</th>\n",
              "      <td>1</td>\n",
              "      <td>2024-05-13 00:00:00</td>\n",
              "      <td>0</td>\n",
              "      <td>0</td>\n",
              "      <td>[{'comment': '교바교', 'likes': 0}]</td>\n",
              "      <td>영발 지각 지각하면 점수 많이 깎이나요…?</td>\n",
              "      <td>0</td>\n",
              "    </tr>\n",
              "    <tr>\n",
              "      <th>2</th>\n",
              "      <td>2</td>\n",
              "      <td>2024-05-13 00:00:00</td>\n",
              "      <td>0</td>\n",
              "      <td>0</td>\n",
              "      <td>[{'comment': '얼마나 늦었는데? 교바교긴 한데 대체로 하루 이내면 신경 ...</td>\n",
              "      <td>창글 과제 제출? 간단하게 하는 거 늦었는데 A+가능..?ㅠㅠㅠ</td>\n",
              "      <td>1</td>\n",
              "    </tr>\n",
              "    <tr>\n",
              "      <th>3</th>\n",
              "      <td>3</td>\n",
              "      <td>2024-05-13 00:00:00</td>\n",
              "      <td>0</td>\n",
              "      <td>0</td>\n",
              "      <td>[{'comment': 'ㅇㅎㅅ 교수님인가..ㅠ 허탈하겠다 고생했어…..ㅠ', 'l...</td>\n",
              "      <td>와 일찍 일어나서 부랴부랴 컴싸코 다 했는데 이번 주 과제네……………. 10주차는 ...</td>\n",
              "      <td>0</td>\n",
              "    </tr>\n",
              "    <tr>\n",
              "      <th>4</th>\n",
              "      <td>4</td>\n",
              "      <td>2024-05-13 00:00:00</td>\n",
              "      <td>0</td>\n",
              "      <td>0</td>\n",
              "      <td>[{'comment': '+지금 보니 다른 곳에 제출했었네요…\\n이거 증거로 말씀드...</td>\n",
              "      <td>실험과목 레포트 다 써놓고 바보같이 제출을 안해서\\n점수 0점 뜨고나서 알았는데\\n...</td>\n",
              "      <td>0</td>\n",
              "    </tr>\n",
              "    <tr>\n",
              "      <th>...</th>\n",
              "      <td>...</td>\n",
              "      <td>...</td>\n",
              "      <td>...</td>\n",
              "      <td>...</td>\n",
              "      <td>...</td>\n",
              "      <td>...</td>\n",
              "      <td>...</td>\n",
              "    </tr>\n",
              "    <tr>\n",
              "      <th>12406</th>\n",
              "      <td>12406</td>\n",
              "      <td>2019-05-07</td>\n",
              "      <td>0</td>\n",
              "      <td>0</td>\n",
              "      <td>[{'comment': '재수강입니다.', 'likes': 0}, {'comment...</td>\n",
              "      <td>제가 전학기에 성균논어 F받았는데요 이번 계절에 성균논어 들으면 최초수강취급되나요...</td>\n",
              "      <td>1</td>\n",
              "    </tr>\n",
              "    <tr>\n",
              "      <th>12407</th>\n",
              "      <td>12407</td>\n",
              "      <td>2019-05-07</td>\n",
              "      <td>0</td>\n",
              "      <td>0</td>\n",
              "      <td>[{'comment': '과마다 다른 사항이라 미컴 졸업논문 요건은 제가 모릅니다....</td>\n",
              "      <td>사회과학대학 졸업요건에서 미디어커뮤니케이션학과의 경우 논문대신 공인어학성적을 대신 ...</td>\n",
              "      <td>1</td>\n",
              "    </tr>\n",
              "    <tr>\n",
              "      <th>12408</th>\n",
              "      <td>12408</td>\n",
              "      <td>2019-05-07</td>\n",
              "      <td>0</td>\n",
              "      <td>0</td>\n",
              "      <td>[{'comment': '전자공학자가 밤에 애인한테 보내는 문자는???', 'lik...</td>\n",
              "      <td>브로리님 재밌는얘기해주세요</td>\n",
              "      <td>1</td>\n",
              "    </tr>\n",
              "    <tr>\n",
              "      <th>12409</th>\n",
              "      <td>12409</td>\n",
              "      <td>2019-05-06</td>\n",
              "      <td>0</td>\n",
              "      <td>0</td>\n",
              "      <td>[{'comment': '1. 네 2. 네', 'likes': 0}, {'comme...</td>\n",
              "      <td>브로리님\\n계절 신청하고 싶은데 전년도 개설과목 찾아보니 전공이 거~의 안열리더라...</td>\n",
              "      <td>1</td>\n",
              "    </tr>\n",
              "    <tr>\n",
              "      <th>12410</th>\n",
              "      <td>12410</td>\n",
              "      <td>2019-05-06</td>\n",
              "      <td>0</td>\n",
              "      <td>0</td>\n",
              "      <td>[{'comment': '문행은 5분위까지 줍니다. 그리고 국가장학금 2유형 인센티...</td>\n",
              "      <td>브로리님. 직전학기 학점이 국장학점 미달이라\\n어차피 이번학기에 못받지만 신청했습니...</td>\n",
              "      <td>1</td>\n",
              "    </tr>\n",
              "  </tbody>\n",
              "</table>\n",
              "<p>12411 rows × 7 columns</p>\n",
              "</div>"
            ],
            "text/plain": [
              "       Unnamed: 0                 date  likes  scrapes  \\\n",
              "0               0  2024-05-13 00:00:00      0        0   \n",
              "1               1  2024-05-13 00:00:00      0        0   \n",
              "2               2  2024-05-13 00:00:00      0        0   \n",
              "3               3  2024-05-13 00:00:00      0        0   \n",
              "4               4  2024-05-13 00:00:00      0        0   \n",
              "...           ...                  ...    ...      ...   \n",
              "12406       12406           2019-05-07      0        0   \n",
              "12407       12407           2019-05-07      0        0   \n",
              "12408       12408           2019-05-07      0        0   \n",
              "12409       12409           2019-05-06      0        0   \n",
              "12410       12410           2019-05-06      0        0   \n",
              "\n",
              "                                                comments  \\\n",
              "0                   [{'comment': '장게로 가세요', 'likes': 0}]   \n",
              "1                       [{'comment': '교바교', 'likes': 0}]   \n",
              "2      [{'comment': '얼마나 늦었는데? 교바교긴 한데 대체로 하루 이내면 신경 ...   \n",
              "3      [{'comment': 'ㅇㅎㅅ 교수님인가..ㅠ 허탈하겠다 고생했어…..ㅠ', 'l...   \n",
              "4      [{'comment': '+지금 보니 다른 곳에 제출했었네요…\\n이거 증거로 말씀드...   \n",
              "...                                                  ...   \n",
              "12406  [{'comment': '재수강입니다.', 'likes': 0}, {'comment...   \n",
              "12407  [{'comment': '과마다 다른 사항이라 미컴 졸업논문 요건은 제가 모릅니다....   \n",
              "12408  [{'comment': '전자공학자가 밤에 애인한테 보내는 문자는???', 'lik...   \n",
              "12409  [{'comment': '1. 네 2. 네', 'likes': 0}, {'comme...   \n",
              "12410  [{'comment': '문행은 5분위까지 줍니다. 그리고 국가장학금 2유형 인센티...   \n",
              "\n",
              "                                                  merged  label  \n",
              "0      ❤️컴사코 노해선 교수님 족보 정리본 + 과제 코딩 답안 팝니다 ☑️2023학년도 ...      0  \n",
              "1                                영발 지각 지각하면 점수 많이 깎이나요…?      0  \n",
              "2                    창글 과제 제출? 간단하게 하는 거 늦었는데 A+가능..?ㅠㅠㅠ      1  \n",
              "3      와 일찍 일어나서 부랴부랴 컴싸코 다 했는데 이번 주 과제네……………. 10주차는 ...      0  \n",
              "4      실험과목 레포트 다 써놓고 바보같이 제출을 안해서\\n점수 0점 뜨고나서 알았는데\\n...      0  \n",
              "...                                                  ...    ...  \n",
              "12406   제가 전학기에 성균논어 F받았는데요 이번 계절에 성균논어 들으면 최초수강취급되나요...      1  \n",
              "12407  사회과학대학 졸업요건에서 미디어커뮤니케이션학과의 경우 논문대신 공인어학성적을 대신 ...      1  \n",
              "12408                                     브로리님 재밌는얘기해주세요      1  \n",
              "12409   브로리님\\n계절 신청하고 싶은데 전년도 개설과목 찾아보니 전공이 거~의 안열리더라...      1  \n",
              "12410  브로리님. 직전학기 학점이 국장학점 미달이라\\n어차피 이번학기에 못받지만 신청했습니...      1  \n",
              "\n",
              "[12411 rows x 7 columns]"
            ]
          },
          "execution_count": 6,
          "metadata": {},
          "output_type": "execute_result"
        }
      ],
      "source": [
        "df = pd.read_excel(\"C:/Users/tjxod/Downloads/에타 1차 라벨링.xlsx\"); df"
      ]
    },
    {
      "cell_type": "code",
      "execution_count": null,
      "metadata": {
        "id": "rNCPKnU-9ocd"
      },
      "outputs": [],
      "source": [
        "import transformers\n",
        "import torch\n",
        "import torch.nn as nn\n",
        "from torch.utils.data import Dataset, DataLoader, RandomSampler, SequentialSampler\n",
        "from transformers import AutoTokenizer, AutoModel, AutoConfig\n",
        "from tqdm import tqdm\n",
        "import warnings\n",
        "warnings.filterwarnings(\"ignore\")"
      ]
    },
    {
      "cell_type": "code",
      "execution_count": null,
      "metadata": {
        "colab": {
          "base_uri": "https://localhost:8080/"
        },
        "id": "AkZBZGAK9oce",
        "outputId": "f5778e45-ae98-444a-e448-f9eae4f22ee4"
      },
      "outputs": [
        {
          "data": {
            "text/plain": [
              "PreTrainedTokenizerFast(name_or_path='klue/bert-base', vocab_size=32000, model_max_len=512, is_fast=True, padding_side='right', truncation_side='right', special_tokens={'unk_token': '[UNK]', 'sep_token': '[SEP]', 'pad_token': '[PAD]', 'cls_token': '[CLS]', 'mask_token': '[MASK]'})"
            ]
          },
          "execution_count": 8,
          "metadata": {},
          "output_type": "execute_result"
        }
      ],
      "source": [
        "model_checkpoint = \"klue/bert-base\"\n",
        "tokenizer = AutoTokenizer.from_pretrained(model_checkpoint)\n",
        "tokenizer"
      ]
    },
    {
      "cell_type": "code",
      "execution_count": null,
      "metadata": {
        "id": "16tnvoIK9oce"
      },
      "outputs": [],
      "source": [
        "# custom dataset class 정의\n",
        "# 텍스터를 로딩 가능한 데이터로 변경하기 위한 작업.\n",
        "# tokenizer를 거치면 token_type_ids를 통해 앞 시퀀스인지, 뒤 시퀀스인지 구별 가능\n",
        "\n",
        "class text_Dataset(Dataset):\n",
        "    def __init__(self, dataframe, tokenizer, max_len):\n",
        "        self.tokenizer = tokenizer # 원본 텍스트를 tokenize할 tokenizer\n",
        "        self.data = dataframe # 원본 데이터\n",
        "        self.comment_text = dataframe[\"merged\"]\n",
        "        self.targets = self.data[\"label\"]\n",
        "        self.max_len = max_len # tokenizer의 max length argument로 사용\n",
        "\n",
        "    def __getitem__(self, idx):\n",
        "        comment_text = str(self.comment_text[idx])\n",
        "        comment_text = \" \".join(comment_text.split())\n",
        "\n",
        "        inputs = self.tokenizer.encode_plus(\n",
        "            comment_text,\n",
        "            add_special_tokens = True,\n",
        "            max_length = self.max_len, # input_max_length\n",
        "            padding = \"max_length\", # padding 할 길이\n",
        "            truncation = True, # truncation 여부\n",
        "            return_token_type_ids = True, # token_type_ids: 첫 번째 시퀀스(0)인지, 두 번째 시퀀스(1)인지 표시\n",
        "        )\n",
        "        ids = inputs[\"input_ids\"]\n",
        "        mask = inputs[\"attention_mask\"] #padding을 데이터 처리 하지 않기 위한\n",
        "        token_type_ids = inputs[\"token_type_ids\"]\n",
        "\n",
        "        return {\n",
        "            \"ids\": torch.tensor(ids, dtype = torch.long),\n",
        "            \"mask\": torch.tensor(mask, dtype = torch.long),\n",
        "            \"token_type_ids\": torch.tensor(token_type_ids, dtype = torch.long),\n",
        "            \"targets\": torch.tensor(self.targets[idx], dtype = torch.float)\n",
        "        }\n",
        "\n",
        "    def __len__(self):\n",
        "        return len(self.comment_text)"
      ]
    },
    {
      "cell_type": "code",
      "execution_count": null,
      "metadata": {
        "id": "P5KLz0dx9oce"
      },
      "outputs": [],
      "source": [
        "random_seed = 10154315\n",
        "train_size = 0.8 #훈련 데이터 사이즈 결정.\n",
        "train_dataset = df.sample(frac = train_size, random_state = random_seed).reset_index(drop = True)\n",
        "test_dataset = df.drop(train_dataset.index).reset_index(drop = True)\n",
        "\n",
        "max_len = 300 #토큰화에 사용될 최대 허용 길이\n",
        "\n",
        "trainDS = text_Dataset(train_dataset, tokenizer, max_len)\n",
        "testDS = text_Dataset(test_dataset, tokenizer, max_len)"
      ]
    },
    {
      "cell_type": "code",
      "execution_count": null,
      "metadata": {
        "id": "a6bSiZOu9ocg"
      },
      "outputs": [],
      "source": [
        "trainDL = DataLoader(trainDS, batch_size = 16, shuffle = True) # num_workers param also available\n",
        "testDL = DataLoader(testDS, batch_size = 16, shuffle = True)"
      ]
    },
    {
      "cell_type": "code",
      "execution_count": null,
      "metadata": {
        "colab": {
          "base_uri": "https://localhost:8080/"
        },
        "id": "N_5dFoFq9ocg",
        "outputId": "599d84bd-22e9-4ebf-f031-855151c43d39"
      },
      "outputs": [
        {
          "data": {
            "text/plain": [
              "{'ids': tensor([[    2,  1376, 11085,  ...,     0,     0,     0],\n",
              "         [    2,  5128, 11187,  ...,     0,     0,     0],\n",
              "         [    2, 16010, 13667,  ...,     0,     0,     0],\n",
              "         ...,\n",
              "         [    2,  9791,  2059,  ...,     0,     0,     0],\n",
              "         [    2, 11085,    24,  ...,     0,     0,     0],\n",
              "         [    2,  5697,  9325,  ...,     0,     0,     0]]),\n",
              " 'mask': tensor([[1, 1, 1,  ..., 0, 0, 0],\n",
              "         [1, 1, 1,  ..., 0, 0, 0],\n",
              "         [1, 1, 1,  ..., 0, 0, 0],\n",
              "         ...,\n",
              "         [1, 1, 1,  ..., 0, 0, 0],\n",
              "         [1, 1, 1,  ..., 0, 0, 0],\n",
              "         [1, 1, 1,  ..., 0, 0, 0]]),\n",
              " 'token_type_ids': tensor([[0, 0, 0,  ..., 0, 0, 0],\n",
              "         [0, 0, 0,  ..., 0, 0, 0],\n",
              "         [0, 0, 0,  ..., 0, 0, 0],\n",
              "         ...,\n",
              "         [0, 0, 0,  ..., 0, 0, 0],\n",
              "         [0, 0, 0,  ..., 0, 0, 0],\n",
              "         [0, 0, 0,  ..., 0, 0, 0]]),\n",
              " 'targets': tensor([0., 1., 0., 1., 0., 0., 0., 1., 1., 1., 1., 1., 1., 1., 1., 1.])}"
            ]
          },
          "execution_count": 12,
          "metadata": {},
          "output_type": "execute_result"
        }
      ],
      "source": [
        "batch = next(iter(trainDL))\n",
        "batch"
      ]
    },
    {
      "cell_type": "code",
      "execution_count": null,
      "metadata": {
        "colab": {
          "base_uri": "https://localhost:8080/"
        },
        "id": "ja65mq5z9oci",
        "outputId": "00575ccf-5cd4-4463-adb7-d256d835b631"
      },
      "outputs": [
        {
          "data": {
            "text/plain": [
              "torch.Size([16, 300])"
            ]
          },
          "execution_count": 13,
          "metadata": {},
          "output_type": "execute_result"
        }
      ],
      "source": [
        "batch['mask'].size()"
      ]
    },
    {
      "cell_type": "code",
      "execution_count": null,
      "metadata": {
        "colab": {
          "base_uri": "https://localhost:8080/"
        },
        "id": "78JxP0Pu9oci",
        "outputId": "57f7d87c-a79b-49f3-f90f-3913e651c0c2"
      },
      "outputs": [
        {
          "data": {
            "text/plain": [
              "{'ids': tensor([    2,  3855,  2595,  1891,  1141,  1169,  2223,  5971,    21,  3237,\n",
              "          1437,  2311,    22,    18,  3801,    22,  3237,  1898,  2510,    22,\n",
              "            18,  6448,    23,  3237,  1503,  2140,    21,    18,  6405,  9785,\n",
              "          3737,  3628,  2154,  1897,  3551, 13964,  5110,  2073, 18119,    35,\n",
              "             3,     0,     0,     0,     0,     0,     0,     0,     0,     0,\n",
              "             0,     0,     0,     0,     0,     0,     0,     0,     0,     0,\n",
              "             0,     0,     0,     0,     0,     0,     0,     0,     0,     0,\n",
              "             0,     0,     0,     0,     0,     0,     0,     0,     0,     0,\n",
              "             0,     0,     0,     0,     0,     0,     0,     0,     0,     0,\n",
              "             0,     0,     0,     0,     0,     0,     0,     0,     0,     0,\n",
              "             0,     0,     0,     0,     0,     0,     0,     0,     0,     0,\n",
              "             0,     0,     0,     0,     0,     0,     0,     0,     0,     0,\n",
              "             0,     0,     0,     0,     0,     0,     0,     0,     0,     0,\n",
              "             0,     0,     0,     0,     0,     0,     0,     0,     0,     0,\n",
              "             0,     0,     0,     0,     0,     0,     0,     0,     0,     0,\n",
              "             0,     0,     0,     0,     0,     0,     0,     0,     0,     0,\n",
              "             0,     0,     0,     0,     0,     0,     0,     0,     0,     0,\n",
              "             0,     0,     0,     0,     0,     0,     0,     0,     0,     0,\n",
              "             0,     0,     0,     0,     0,     0,     0,     0,     0,     0,\n",
              "             0,     0,     0,     0,     0,     0,     0,     0,     0,     0,\n",
              "             0,     0,     0,     0,     0,     0,     0,     0,     0,     0,\n",
              "             0,     0,     0,     0,     0,     0,     0,     0,     0,     0,\n",
              "             0,     0,     0,     0,     0,     0,     0,     0,     0,     0,\n",
              "             0,     0,     0,     0,     0,     0,     0,     0,     0,     0,\n",
              "             0,     0,     0,     0,     0,     0,     0,     0,     0,     0,\n",
              "             0,     0,     0,     0,     0,     0,     0,     0,     0,     0,\n",
              "             0,     0,     0,     0,     0,     0,     0,     0,     0,     0,\n",
              "             0,     0,     0,     0,     0,     0,     0,     0,     0,     0,\n",
              "             0,     0,     0,     0,     0,     0,     0,     0,     0,     0,\n",
              "             0,     0,     0,     0,     0,     0,     0,     0,     0,     0]),\n",
              " 'mask': tensor([1, 1, 1, 1, 1, 1, 1, 1, 1, 1, 1, 1, 1, 1, 1, 1, 1, 1, 1, 1, 1, 1, 1, 1,\n",
              "         1, 1, 1, 1, 1, 1, 1, 1, 1, 1, 1, 1, 1, 1, 1, 1, 1, 0, 0, 0, 0, 0, 0, 0,\n",
              "         0, 0, 0, 0, 0, 0, 0, 0, 0, 0, 0, 0, 0, 0, 0, 0, 0, 0, 0, 0, 0, 0, 0, 0,\n",
              "         0, 0, 0, 0, 0, 0, 0, 0, 0, 0, 0, 0, 0, 0, 0, 0, 0, 0, 0, 0, 0, 0, 0, 0,\n",
              "         0, 0, 0, 0, 0, 0, 0, 0, 0, 0, 0, 0, 0, 0, 0, 0, 0, 0, 0, 0, 0, 0, 0, 0,\n",
              "         0, 0, 0, 0, 0, 0, 0, 0, 0, 0, 0, 0, 0, 0, 0, 0, 0, 0, 0, 0, 0, 0, 0, 0,\n",
              "         0, 0, 0, 0, 0, 0, 0, 0, 0, 0, 0, 0, 0, 0, 0, 0, 0, 0, 0, 0, 0, 0, 0, 0,\n",
              "         0, 0, 0, 0, 0, 0, 0, 0, 0, 0, 0, 0, 0, 0, 0, 0, 0, 0, 0, 0, 0, 0, 0, 0,\n",
              "         0, 0, 0, 0, 0, 0, 0, 0, 0, 0, 0, 0, 0, 0, 0, 0, 0, 0, 0, 0, 0, 0, 0, 0,\n",
              "         0, 0, 0, 0, 0, 0, 0, 0, 0, 0, 0, 0, 0, 0, 0, 0, 0, 0, 0, 0, 0, 0, 0, 0,\n",
              "         0, 0, 0, 0, 0, 0, 0, 0, 0, 0, 0, 0, 0, 0, 0, 0, 0, 0, 0, 0, 0, 0, 0, 0,\n",
              "         0, 0, 0, 0, 0, 0, 0, 0, 0, 0, 0, 0, 0, 0, 0, 0, 0, 0, 0, 0, 0, 0, 0, 0,\n",
              "         0, 0, 0, 0, 0, 0, 0, 0, 0, 0, 0, 0]),\n",
              " 'token_type_ids': tensor([0, 0, 0, 0, 0, 0, 0, 0, 0, 0, 0, 0, 0, 0, 0, 0, 0, 0, 0, 0, 0, 0, 0, 0,\n",
              "         0, 0, 0, 0, 0, 0, 0, 0, 0, 0, 0, 0, 0, 0, 0, 0, 0, 0, 0, 0, 0, 0, 0, 0,\n",
              "         0, 0, 0, 0, 0, 0, 0, 0, 0, 0, 0, 0, 0, 0, 0, 0, 0, 0, 0, 0, 0, 0, 0, 0,\n",
              "         0, 0, 0, 0, 0, 0, 0, 0, 0, 0, 0, 0, 0, 0, 0, 0, 0, 0, 0, 0, 0, 0, 0, 0,\n",
              "         0, 0, 0, 0, 0, 0, 0, 0, 0, 0, 0, 0, 0, 0, 0, 0, 0, 0, 0, 0, 0, 0, 0, 0,\n",
              "         0, 0, 0, 0, 0, 0, 0, 0, 0, 0, 0, 0, 0, 0, 0, 0, 0, 0, 0, 0, 0, 0, 0, 0,\n",
              "         0, 0, 0, 0, 0, 0, 0, 0, 0, 0, 0, 0, 0, 0, 0, 0, 0, 0, 0, 0, 0, 0, 0, 0,\n",
              "         0, 0, 0, 0, 0, 0, 0, 0, 0, 0, 0, 0, 0, 0, 0, 0, 0, 0, 0, 0, 0, 0, 0, 0,\n",
              "         0, 0, 0, 0, 0, 0, 0, 0, 0, 0, 0, 0, 0, 0, 0, 0, 0, 0, 0, 0, 0, 0, 0, 0,\n",
              "         0, 0, 0, 0, 0, 0, 0, 0, 0, 0, 0, 0, 0, 0, 0, 0, 0, 0, 0, 0, 0, 0, 0, 0,\n",
              "         0, 0, 0, 0, 0, 0, 0, 0, 0, 0, 0, 0, 0, 0, 0, 0, 0, 0, 0, 0, 0, 0, 0, 0,\n",
              "         0, 0, 0, 0, 0, 0, 0, 0, 0, 0, 0, 0, 0, 0, 0, 0, 0, 0, 0, 0, 0, 0, 0, 0,\n",
              "         0, 0, 0, 0, 0, 0, 0, 0, 0, 0, 0, 0]),\n",
              " 'targets': tensor(0.)}"
            ]
          },
          "execution_count": 14,
          "metadata": {},
          "output_type": "execute_result"
        }
      ],
      "source": [
        "trainDS[0]\n",
        "#id는 실제 데이터, 이중 0의 값은 패딩 값. mask는 패딩 값의 구분"
      ]
    },
    {
      "cell_type": "code",
      "execution_count": null,
      "metadata": {
        "colab": {
          "base_uri": "https://localhost:8080/"
        },
        "id": "tnJMPc3H-D18",
        "outputId": "af68273f-4e9e-403c-9225-f1736520a1ad"
      },
      "outputs": [
        {
          "data": {
            "text/plain": [
              "False"
            ]
          },
          "execution_count": 15,
          "metadata": {},
          "output_type": "execute_result"
        }
      ],
      "source": [
        "torch.cuda.is_available()"
      ]
    },
    {
      "cell_type": "code",
      "execution_count": null,
      "metadata": {
        "colab": {
          "base_uri": "https://localhost:8080/",
          "height": 125,
          "referenced_widgets": [
            "ec190febedf04dc7b5c5fb28a22df884",
            "93e887dbdf5b438e8022d2501983bdc2",
            "f1e913381df942fbbe13f88982c5c30d",
            "c4fa7be14bac487eab1e3962e97aef06",
            "02be857ccd1b4cb18679525d43597c05",
            "958191e22ba345bcb4f432636961d8fe",
            "5fbb2bdee8434c3a9651e5db4a84c42b",
            "02922d95f9da4ccdb7df017c97f14e4e",
            "1b2320ab13e64db98c36920c96fca07c",
            "9018a48c04c54bc1a729981ee0faa583",
            "e824f3e4d9d8496291383d489152f147"
          ]
        },
        "id": "u86gPjDf9oci",
        "outputId": "c6e14b5e-8eb8-41ae-cf68-3ffed13f2673"
      },
      "outputs": [
        {
          "data": {
            "application/vnd.jupyter.widget-view+json": {
              "model_id": "ec190febedf04dc7b5c5fb28a22df884",
              "version_major": 2,
              "version_minor": 0
            },
            "text/plain": [
              "Downloading:   0%|          | 0.00/445M [00:00<?, ?B/s]"
            ]
          },
          "metadata": {},
          "output_type": "display_data"
        },
        {
          "name": "stderr",
          "output_type": "stream",
          "text": [
            "Some weights of the model checkpoint at klue/bert-base were not used when initializing BertModel: ['cls.seq_relationship.weight', 'cls.predictions.transform.LayerNorm.weight', 'cls.predictions.transform.LayerNorm.bias', 'cls.predictions.decoder.weight', 'cls.predictions.decoder.bias', 'cls.predictions.transform.dense.bias', 'cls.predictions.bias', 'cls.predictions.transform.dense.weight', 'cls.seq_relationship.bias']\n",
            "- This IS expected if you are initializing BertModel from the checkpoint of a model trained on another task or with another architecture (e.g. initializing a BertForSequenceClassification model from a BertForPreTraining model).\n",
            "- This IS NOT expected if you are initializing BertModel from the checkpoint of a model that you expect to be exactly identical (initializing a BertForSequenceClassification model from a BertForSequenceClassification model).\n"
          ]
        }
      ],
      "source": [
        "class Text_Classifier(nn.Module): #분류모델 정의\n",
        "    def __init__(self, model_checkpoint):\n",
        "        super().__init__()\n",
        "        self.transformer = AutoModel.from_pretrained(model_checkpoint) #미리 훈련된  BERT 모델을 불러옴\n",
        "        self.dropout = nn.Dropout(0.3)\n",
        "        self.clf = nn.Linear(self.transformer.config.hidden_size, 1) # transformer layer의 hidden size를 최종 class 개수, 2로 압축\n",
        "\n",
        "    def forward(self, ids, mask, token_type_ids): #순전파 정의\n",
        "        _, pooled_output = self.transformer(input_ids = ids, attention_mask = mask, token_type_ids = token_type_ids, return_dict = False)\n",
        "        out = self.dropout(pooled_output)\n",
        "        out = self.clf(out)\n",
        "\n",
        "        return out\n",
        "\n",
        "device = torch.device(\"cuda:0\" if torch.cuda.is_available() else \"cpu\")\n",
        "\n",
        "model = Text_Classifier(model_checkpoint)\n",
        "model = model.to(device)"
      ]
    },
    {
      "cell_type": "code",
      "execution_count": null,
      "metadata": {
        "id": "Ktl4mYtn9ocj"
      },
      "outputs": [],
      "source": [
        "learning_rate = 1e-05 #학습률\n",
        "num_epochs = 20 #에포크 수\n",
        "\n",
        "#손실함수 정의\n",
        "def loss_fn(preds, targets): return nn.BCEWithLogitsLoss()(preds, targets)\n",
        "optimizer = torch.optim.Adam(params = model.parameters(), lr = learning_rate)\n",
        "\n",
        " #훈련과정\n",
        "def train(epoch):\n",
        "    model.train()\n",
        "    total_loss = 0\n",
        "    for _, batch in enumerate(trainDL):\n",
        "        ids = batch['ids'].to(device)\n",
        "        mask = batch['mask'].to(device)\n",
        "        token_type_ids = batch['token_type_ids'].to(device)\n",
        "        targets = batch['targets'].to(device)\n",
        "\n",
        "        outputs = model(ids, mask, token_type_ids)\n",
        "\n",
        "        optimizer.zero_grad()\n",
        "        loss = loss_fn(outputs, targets.view_as(outputs))\n",
        "\n",
        "        total_loss += loss.item()\n",
        "        loss.backward()\n",
        "        optimizer.step()\n",
        "\n",
        "    print(f\"Epoch: {epoch}, Loss: {total_loss}\")"
      ]
    },
    {
      "cell_type": "code",
      "execution_count": null,
      "metadata": {
        "colab": {
          "base_uri": "https://localhost:8080/",
          "height": 316
        },
        "id": "b_HmP_N99ock",
        "outputId": "0d5e84b9-cbb5-46c5-cd81-dd5ba49fbec7"
      },
      "outputs": [
        {
          "name": "stderr",
          "output_type": "stream",
          "text": [
            "  0%|          | 0/20 [02:11<?, ?it/s]\n"
          ]
        },
        {
          "ename": "KeyboardInterrupt",
          "evalue": "",
          "output_type": "error",
          "traceback": [
            "\u001b[0;31m---------------------------------------------------------------------------\u001b[0m",
            "\u001b[0;31mKeyboardInterrupt\u001b[0m                         Traceback (most recent call last)",
            "\u001b[0;32m<ipython-input-17-a717f98050e0>\u001b[0m in \u001b[0;36m<cell line: 1>\u001b[0;34m()\u001b[0m\n\u001b[1;32m      1\u001b[0m \u001b[0;32mfor\u001b[0m \u001b[0mepoch\u001b[0m \u001b[0;32min\u001b[0m \u001b[0mtqdm\u001b[0m\u001b[0;34m(\u001b[0m\u001b[0mrange\u001b[0m\u001b[0;34m(\u001b[0m\u001b[0mnum_epochs\u001b[0m\u001b[0;34m)\u001b[0m\u001b[0;34m)\u001b[0m\u001b[0;34m:\u001b[0m\u001b[0;34m\u001b[0m\u001b[0;34m\u001b[0m\u001b[0m\n\u001b[0;32m----> 2\u001b[0;31m     \u001b[0mtrain\u001b[0m\u001b[0;34m(\u001b[0m\u001b[0mepoch\u001b[0m\u001b[0;34m)\u001b[0m\u001b[0;34m\u001b[0m\u001b[0;34m\u001b[0m\u001b[0m\n\u001b[0m",
            "\u001b[0;32m<ipython-input-16-cfe59de6d2c9>\u001b[0m in \u001b[0;36mtrain\u001b[0;34m(epoch)\u001b[0m\n\u001b[1;32m     11\u001b[0m     \u001b[0mtotal_loss\u001b[0m \u001b[0;34m=\u001b[0m \u001b[0;36m0\u001b[0m\u001b[0;34m\u001b[0m\u001b[0;34m\u001b[0m\u001b[0m\n\u001b[1;32m     12\u001b[0m     \u001b[0;32mfor\u001b[0m \u001b[0m_\u001b[0m\u001b[0;34m,\u001b[0m \u001b[0mbatch\u001b[0m \u001b[0;32min\u001b[0m \u001b[0menumerate\u001b[0m\u001b[0;34m(\u001b[0m\u001b[0mtrainDL\u001b[0m\u001b[0;34m)\u001b[0m\u001b[0;34m:\u001b[0m\u001b[0;34m\u001b[0m\u001b[0;34m\u001b[0m\u001b[0m\n\u001b[0;32m---> 13\u001b[0;31m         \u001b[0mids\u001b[0m \u001b[0;34m=\u001b[0m \u001b[0mbatch\u001b[0m\u001b[0;34m[\u001b[0m\u001b[0;34m'ids'\u001b[0m\u001b[0;34m]\u001b[0m\u001b[0;34m.\u001b[0m\u001b[0mto\u001b[0m\u001b[0;34m(\u001b[0m\u001b[0mdevice\u001b[0m\u001b[0;34m)\u001b[0m\u001b[0;34m\u001b[0m\u001b[0;34m\u001b[0m\u001b[0m\n\u001b[0m\u001b[1;32m     14\u001b[0m         \u001b[0mmask\u001b[0m \u001b[0;34m=\u001b[0m \u001b[0mbatch\u001b[0m\u001b[0;34m[\u001b[0m\u001b[0;34m'mask'\u001b[0m\u001b[0;34m]\u001b[0m\u001b[0;34m.\u001b[0m\u001b[0mto\u001b[0m\u001b[0;34m(\u001b[0m\u001b[0mdevice\u001b[0m\u001b[0;34m)\u001b[0m\u001b[0;34m\u001b[0m\u001b[0;34m\u001b[0m\u001b[0m\n\u001b[1;32m     15\u001b[0m         \u001b[0mtoken_type_ids\u001b[0m \u001b[0;34m=\u001b[0m \u001b[0mbatch\u001b[0m\u001b[0;34m[\u001b[0m\u001b[0;34m'token_type_ids'\u001b[0m\u001b[0;34m]\u001b[0m\u001b[0;34m.\u001b[0m\u001b[0mto\u001b[0m\u001b[0;34m(\u001b[0m\u001b[0mdevice\u001b[0m\u001b[0;34m)\u001b[0m\u001b[0;34m\u001b[0m\u001b[0;34m\u001b[0m\u001b[0m\n",
            "\u001b[0;31mKeyboardInterrupt\u001b[0m: "
          ]
        }
      ],
      "source": [
        "for epoch in tqdm(range(num_epochs)):\n",
        "    train(epoch)"
      ]
    },
    {
      "cell_type": "code",
      "execution_count": null,
      "metadata": {
        "id": "qPufz5hAIiyQ"
      },
      "outputs": [],
      "source": [
        "import numpy as np\n",
        "from sklearn import metrics\n",
        "import torch\n",
        "\n",
        "def validation():\n",
        "    model.eval()  # 활성화되지 않은 계층을 위해서\n",
        "    fin_targets = []  # 실제 레이블\n",
        "    fin_outputs = []  # 출력 레이블\n",
        "    with torch.no_grad():\n",
        "        for _, data in enumerate(testDL):  # 배치 단위로 데이터셋 가져옴\n",
        "            ids = data['ids'].to(device, dtype=torch.long)\n",
        "            mask = data['mask'].to(device, dtype=torch.long)\n",
        "            token_type_ids = data['token_type_ids'].to(device, dtype=torch.long)\n",
        "            targets = data['targets'].to(device, dtype=torch.float)\n",
        "            outputs = model(ids, mask, token_type_ids)\n",
        "            fin_targets.extend(targets.cpu().detach().numpy().tolist())\n",
        "            fin_outputs.extend(torch.sigmoid(outputs).cpu().detach().numpy().tolist())\n",
        "    return fin_outputs, fin_targets  # 결과 반환\n",
        "\n",
        "outputs, targets = validation()\n",
        "outputs = np.array(outputs) >= 0.5  # 기준 세우기\n",
        "targets = np.array(targets)  # targets를 numpy 배열로 변환\n",
        "\n",
        "accuracy = metrics.accuracy_score(targets, outputs)\n",
        "\n",
        "f1_score_micro = metrics.f1_score(targets, outputs, average='micro')\n",
        "f1_score_macro = metrics.f1_score(targets, outputs, average='macro')\n",
        "print(f\"Accuracy Score = {accuracy}\")\n",
        "print(f\"F1 Score (Micro) = {f1_score_micro}\")\n",
        "print(f\"F1 Score (Macro) = {f1_score_macro}\")"
      ]
    },
    {
      "cell_type": "code",
      "execution_count": null,
      "metadata": {
        "id": "UTWWUzxG9ock"
      },
      "outputs": [],
      "source": [
        "def predict(text):\n",
        "    encoding = tokenizer.encode_plus(\n",
        "        text,\n",
        "        add_special_tokens=True,\n",
        "        max_length=128,\n",
        "        return_token_type_ids=True,\n",
        "        padding='max_length',\n",
        "        truncation=True,\n",
        "        return_attention_mask=True,\n",
        "        return_tensors='pt',\n",
        "    )\n",
        "\n",
        "    input_ids = encoding['input_ids'].to(device)\n",
        "    attention_mask = encoding['attention_mask'].to(device)\n",
        "    token_type_ids = encoding['token_type_ids'].to(device)\n",
        "\n",
        "    model.eval()\n",
        "\n",
        "    with torch.no_grad():\n",
        "        outputs = model(input_ids, attention_mask, token_type_ids)\n",
        "        logits = outputs.squeeze()\n",
        "        prediction = torch.sigmoid(logits).item()\n",
        "\n",
        "    return 1 if prediction > 0.5 else 0\n",
        "\n",
        "# 예제 사용법\n",
        "text = \"도전학기랑 계절학기랑 같은 거임?\"\n",
        "label = predict(text)\n",
        "print(f'Text: {text}\\nLabel: {label}')\n"
      ]
    },
    {
      "cell_type": "markdown",
      "metadata": {
        "id": "4StljKn_-ijA"
      },
      "source": [
        "##SVM"
      ]
    },
    {
      "cell_type": "code",
      "execution_count": null,
      "metadata": {
        "colab": {
          "background_save": true
        },
        "id": "MTa-1bjj-iLL",
        "outputId": "be527a09-ecae-410f-dd7f-0b017dfc6350"
      },
      "outputs": [
        {
          "name": "stdout",
          "output_type": "stream",
          "text": [
            "Epoch: 0, Loss: 271.36705780774355\n",
            "SVM Accuracy: 0.9246575342465754\n",
            "SVM F1 Score (Micro): 0.9246575342465754\n",
            "SVM F1 Score (Macro): 0.6425060791081252\n"
          ]
        }
      ],
      "source": [
        "import torch\n",
        "import numpy as np\n",
        "from torch import nn\n",
        "from sklearn import svm\n",
        "from sklearn.preprocessing import StandardScaler\n",
        "from sklearn import metrics\n",
        "\n",
        "learning_rate = 1e-05 #학습률\n",
        "num_epochs = 20 #에포크 수\n",
        "\n",
        "# SVM 모델 정의 및 전처리기 준비\n",
        "svm_model = svm.SVC(probability=True)\n",
        "scaler = StandardScaler()\n",
        "\n",
        "# 손실함수 정의\n",
        "def loss_fn(preds, targets): return nn.BCEWithLogitsLoss()(preds, targets)\n",
        "\n",
        "# 옵티마이저 정의\n",
        "optimizer = torch.optim.Adam(params=model.parameters(), lr=learning_rate)\n",
        "\n",
        "# 훈련 과정에 SVM 추가\n",
        "def train_with_svm(epoch):\n",
        "    model.train()\n",
        "    svm_features = []\n",
        "    svm_targets = []\n",
        "\n",
        "    total_loss = 0\n",
        "    for _, batch in enumerate(trainDL):\n",
        "        ids = batch['ids'].to(device)\n",
        "        mask = batch['mask'].to(device)\n",
        "        token_type_ids = batch['token_type_ids'].to(device)\n",
        "        targets = batch['targets'].to(device)\n",
        "\n",
        "        outputs = model(ids, mask, token_type_ids)\n",
        "\n",
        "        # 손실 계산\n",
        "        optimizer.zero_grad()\n",
        "        loss = loss_fn(outputs, targets.view_as(outputs))\n",
        "        loss.backward()\n",
        "        optimizer.step()\n",
        "\n",
        "        total_loss += loss.item()\n",
        "\n",
        "        # 특징과 타겟 수집 (은닉 상태 사용)\n",
        "        hidden_states = outputs.detach().cpu().numpy()\n",
        "        svm_features.append(hidden_states)\n",
        "        svm_targets.append(targets.cpu().numpy())\n",
        "\n",
        "    # SVM 훈련\n",
        "    svm_features = np.concatenate(svm_features, axis=0)\n",
        "    svm_targets = np.concatenate(svm_targets, axis=0)\n",
        "    svm_features = scaler.fit_transform(svm_features)  # 특징 스케일링\n",
        "    svm_model.fit(svm_features, svm_targets)\n",
        "\n",
        "    print(f\"Epoch: {epoch}, Loss: {total_loss}\")\n",
        "\n",
        "# SVM 평가\n",
        "def evaluate_with_svm(data_loader):\n",
        "    model.eval()\n",
        "    svm_features = []\n",
        "    true_labels = []\n",
        "\n",
        "    with torch.no_grad():\n",
        "        for _, batch in enumerate(data_loader):\n",
        "            ids = batch['ids'].to(device)\n",
        "            mask = batch['mask'].to(device)\n",
        "            token_type_ids = batch['token_type_ids'].to(device)\n",
        "            targets = batch['targets'].to(device)\n",
        "\n",
        "            outputs = model(ids, mask, token_type_ids)\n",
        "\n",
        "            hidden_states = outputs.detach().cpu().numpy()\n",
        "            svm_features.append(hidden_states)\n",
        "            true_labels.append(targets.cpu().numpy())\n",
        "\n",
        "        svm_features = np.concatenate(svm_features, axis=0)\n",
        "        true_labels = np.concatenate(true_labels, axis=0)\n",
        "        svm_features = scaler.transform(svm_features)  # 특징 스케일링\n",
        "        preds = svm_model.predict(svm_features)\n",
        "\n",
        "    accuracy = metrics.accuracy_score(true_labels, preds)\n",
        "    f1_score_micro = metrics.f1_score(true_labels, preds, average='micro')\n",
        "    f1_score_macro = metrics.f1_score(true_labels, preds, average='macro')\n",
        "\n",
        "    print(f\"SVM Accuracy: {accuracy}\")\n",
        "    print(f\"SVM F1 Score (Micro): {f1_score_micro}\")\n",
        "    print(f\"SVM F1 Score (Macro): {f1_score_macro}\")\n",
        "\n",
        "# 에포크 수 만큼 훈련\n",
        "for epoch in range(num_epochs):\n",
        "    train_with_svm(epoch)\n",
        "\n",
        "evaluate_with_svm(testDL)\n"
      ]
    }
  ],
  "metadata": {
    "accelerator": "GPU",
    "colab": {
      "gpuType": "T4",
      "provenance": []
    },
    "kernelspec": {
      "display_name": "Python 3",
      "name": "python3"
    },
    "language_info": {
      "codemirror_mode": {
        "name": "ipython",
        "version": 3
      },
      "file_extension": ".py",
      "mimetype": "text/x-python",
      "name": "python",
      "nbconvert_exporter": "python",
      "pygments_lexer": "ipython3",
      "version": "3.11.5"
    },
    "widgets": {
      "application/vnd.jupyter.widget-state+json": {
        "02922d95f9da4ccdb7df017c97f14e4e": {
          "model_module": "@jupyter-widgets/base",
          "model_module_version": "1.2.0",
          "model_name": "LayoutModel",
          "state": {
            "_model_module": "@jupyter-widgets/base",
            "_model_module_version": "1.2.0",
            "_model_name": "LayoutModel",
            "_view_count": null,
            "_view_module": "@jupyter-widgets/base",
            "_view_module_version": "1.2.0",
            "_view_name": "LayoutView",
            "align_content": null,
            "align_items": null,
            "align_self": null,
            "border": null,
            "bottom": null,
            "display": null,
            "flex": null,
            "flex_flow": null,
            "grid_area": null,
            "grid_auto_columns": null,
            "grid_auto_flow": null,
            "grid_auto_rows": null,
            "grid_column": null,
            "grid_gap": null,
            "grid_row": null,
            "grid_template_areas": null,
            "grid_template_columns": null,
            "grid_template_rows": null,
            "height": null,
            "justify_content": null,
            "justify_items": null,
            "left": null,
            "margin": null,
            "max_height": null,
            "max_width": null,
            "min_height": null,
            "min_width": null,
            "object_fit": null,
            "object_position": null,
            "order": null,
            "overflow": null,
            "overflow_x": null,
            "overflow_y": null,
            "padding": null,
            "right": null,
            "top": null,
            "visibility": null,
            "width": null
          }
        },
        "02be857ccd1b4cb18679525d43597c05": {
          "model_module": "@jupyter-widgets/base",
          "model_module_version": "1.2.0",
          "model_name": "LayoutModel",
          "state": {
            "_model_module": "@jupyter-widgets/base",
            "_model_module_version": "1.2.0",
            "_model_name": "LayoutModel",
            "_view_count": null,
            "_view_module": "@jupyter-widgets/base",
            "_view_module_version": "1.2.0",
            "_view_name": "LayoutView",
            "align_content": null,
            "align_items": null,
            "align_self": null,
            "border": null,
            "bottom": null,
            "display": null,
            "flex": null,
            "flex_flow": null,
            "grid_area": null,
            "grid_auto_columns": null,
            "grid_auto_flow": null,
            "grid_auto_rows": null,
            "grid_column": null,
            "grid_gap": null,
            "grid_row": null,
            "grid_template_areas": null,
            "grid_template_columns": null,
            "grid_template_rows": null,
            "height": null,
            "justify_content": null,
            "justify_items": null,
            "left": null,
            "margin": null,
            "max_height": null,
            "max_width": null,
            "min_height": null,
            "min_width": null,
            "object_fit": null,
            "object_position": null,
            "order": null,
            "overflow": null,
            "overflow_x": null,
            "overflow_y": null,
            "padding": null,
            "right": null,
            "top": null,
            "visibility": null,
            "width": null
          }
        },
        "1b2320ab13e64db98c36920c96fca07c": {
          "model_module": "@jupyter-widgets/controls",
          "model_module_version": "1.5.0",
          "model_name": "ProgressStyleModel",
          "state": {
            "_model_module": "@jupyter-widgets/controls",
            "_model_module_version": "1.5.0",
            "_model_name": "ProgressStyleModel",
            "_view_count": null,
            "_view_module": "@jupyter-widgets/base",
            "_view_module_version": "1.2.0",
            "_view_name": "StyleView",
            "bar_color": null,
            "description_width": ""
          }
        },
        "5fbb2bdee8434c3a9651e5db4a84c42b": {
          "model_module": "@jupyter-widgets/controls",
          "model_module_version": "1.5.0",
          "model_name": "DescriptionStyleModel",
          "state": {
            "_model_module": "@jupyter-widgets/controls",
            "_model_module_version": "1.5.0",
            "_model_name": "DescriptionStyleModel",
            "_view_count": null,
            "_view_module": "@jupyter-widgets/base",
            "_view_module_version": "1.2.0",
            "_view_name": "StyleView",
            "description_width": ""
          }
        },
        "9018a48c04c54bc1a729981ee0faa583": {
          "model_module": "@jupyter-widgets/base",
          "model_module_version": "1.2.0",
          "model_name": "LayoutModel",
          "state": {
            "_model_module": "@jupyter-widgets/base",
            "_model_module_version": "1.2.0",
            "_model_name": "LayoutModel",
            "_view_count": null,
            "_view_module": "@jupyter-widgets/base",
            "_view_module_version": "1.2.0",
            "_view_name": "LayoutView",
            "align_content": null,
            "align_items": null,
            "align_self": null,
            "border": null,
            "bottom": null,
            "display": null,
            "flex": null,
            "flex_flow": null,
            "grid_area": null,
            "grid_auto_columns": null,
            "grid_auto_flow": null,
            "grid_auto_rows": null,
            "grid_column": null,
            "grid_gap": null,
            "grid_row": null,
            "grid_template_areas": null,
            "grid_template_columns": null,
            "grid_template_rows": null,
            "height": null,
            "justify_content": null,
            "justify_items": null,
            "left": null,
            "margin": null,
            "max_height": null,
            "max_width": null,
            "min_height": null,
            "min_width": null,
            "object_fit": null,
            "object_position": null,
            "order": null,
            "overflow": null,
            "overflow_x": null,
            "overflow_y": null,
            "padding": null,
            "right": null,
            "top": null,
            "visibility": null,
            "width": null
          }
        },
        "93e887dbdf5b438e8022d2501983bdc2": {
          "model_module": "@jupyter-widgets/controls",
          "model_module_version": "1.5.0",
          "model_name": "HTMLModel",
          "state": {
            "_dom_classes": [],
            "_model_module": "@jupyter-widgets/controls",
            "_model_module_version": "1.5.0",
            "_model_name": "HTMLModel",
            "_view_count": null,
            "_view_module": "@jupyter-widgets/controls",
            "_view_module_version": "1.5.0",
            "_view_name": "HTMLView",
            "description": "",
            "description_tooltip": null,
            "layout": "IPY_MODEL_958191e22ba345bcb4f432636961d8fe",
            "placeholder": "​",
            "style": "IPY_MODEL_5fbb2bdee8434c3a9651e5db4a84c42b",
            "value": "Downloading: 100%"
          }
        },
        "958191e22ba345bcb4f432636961d8fe": {
          "model_module": "@jupyter-widgets/base",
          "model_module_version": "1.2.0",
          "model_name": "LayoutModel",
          "state": {
            "_model_module": "@jupyter-widgets/base",
            "_model_module_version": "1.2.0",
            "_model_name": "LayoutModel",
            "_view_count": null,
            "_view_module": "@jupyter-widgets/base",
            "_view_module_version": "1.2.0",
            "_view_name": "LayoutView",
            "align_content": null,
            "align_items": null,
            "align_self": null,
            "border": null,
            "bottom": null,
            "display": null,
            "flex": null,
            "flex_flow": null,
            "grid_area": null,
            "grid_auto_columns": null,
            "grid_auto_flow": null,
            "grid_auto_rows": null,
            "grid_column": null,
            "grid_gap": null,
            "grid_row": null,
            "grid_template_areas": null,
            "grid_template_columns": null,
            "grid_template_rows": null,
            "height": null,
            "justify_content": null,
            "justify_items": null,
            "left": null,
            "margin": null,
            "max_height": null,
            "max_width": null,
            "min_height": null,
            "min_width": null,
            "object_fit": null,
            "object_position": null,
            "order": null,
            "overflow": null,
            "overflow_x": null,
            "overflow_y": null,
            "padding": null,
            "right": null,
            "top": null,
            "visibility": null,
            "width": null
          }
        },
        "c4fa7be14bac487eab1e3962e97aef06": {
          "model_module": "@jupyter-widgets/controls",
          "model_module_version": "1.5.0",
          "model_name": "HTMLModel",
          "state": {
            "_dom_classes": [],
            "_model_module": "@jupyter-widgets/controls",
            "_model_module_version": "1.5.0",
            "_model_name": "HTMLModel",
            "_view_count": null,
            "_view_module": "@jupyter-widgets/controls",
            "_view_module_version": "1.5.0",
            "_view_name": "HTMLView",
            "description": "",
            "description_tooltip": null,
            "layout": "IPY_MODEL_9018a48c04c54bc1a729981ee0faa583",
            "placeholder": "​",
            "style": "IPY_MODEL_e824f3e4d9d8496291383d489152f147",
            "value": " 445M/445M [00:07&lt;00:00, 53.5MB/s]"
          }
        },
        "e824f3e4d9d8496291383d489152f147": {
          "model_module": "@jupyter-widgets/controls",
          "model_module_version": "1.5.0",
          "model_name": "DescriptionStyleModel",
          "state": {
            "_model_module": "@jupyter-widgets/controls",
            "_model_module_version": "1.5.0",
            "_model_name": "DescriptionStyleModel",
            "_view_count": null,
            "_view_module": "@jupyter-widgets/base",
            "_view_module_version": "1.2.0",
            "_view_name": "StyleView",
            "description_width": ""
          }
        },
        "ec190febedf04dc7b5c5fb28a22df884": {
          "model_module": "@jupyter-widgets/controls",
          "model_module_version": "1.5.0",
          "model_name": "HBoxModel",
          "state": {
            "_dom_classes": [],
            "_model_module": "@jupyter-widgets/controls",
            "_model_module_version": "1.5.0",
            "_model_name": "HBoxModel",
            "_view_count": null,
            "_view_module": "@jupyter-widgets/controls",
            "_view_module_version": "1.5.0",
            "_view_name": "HBoxView",
            "box_style": "",
            "children": [
              "IPY_MODEL_93e887dbdf5b438e8022d2501983bdc2",
              "IPY_MODEL_f1e913381df942fbbe13f88982c5c30d",
              "IPY_MODEL_c4fa7be14bac487eab1e3962e97aef06"
            ],
            "layout": "IPY_MODEL_02be857ccd1b4cb18679525d43597c05"
          }
        },
        "f1e913381df942fbbe13f88982c5c30d": {
          "model_module": "@jupyter-widgets/controls",
          "model_module_version": "1.5.0",
          "model_name": "FloatProgressModel",
          "state": {
            "_dom_classes": [],
            "_model_module": "@jupyter-widgets/controls",
            "_model_module_version": "1.5.0",
            "_model_name": "FloatProgressModel",
            "_view_count": null,
            "_view_module": "@jupyter-widgets/controls",
            "_view_module_version": "1.5.0",
            "_view_name": "ProgressView",
            "bar_style": "success",
            "description": "",
            "description_tooltip": null,
            "layout": "IPY_MODEL_02922d95f9da4ccdb7df017c97f14e4e",
            "max": 445025130,
            "min": 0,
            "orientation": "horizontal",
            "style": "IPY_MODEL_1b2320ab13e64db98c36920c96fca07c",
            "value": 445025130
          }
        }
      }
    }
  },
  "nbformat": 4,
  "nbformat_minor": 0
}